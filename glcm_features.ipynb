{
  "nbformat": 4,
  "nbformat_minor": 0,
  "metadata": {
    "colab": {
      "name": "glcm_features.ipynb",
      "provenance": [],
      "collapsed_sections": [],
      "toc_visible": true,
      "authorship_tag": "ABX9TyPhoHY+hjS12N07vtGe+94j",
      "include_colab_link": true
    },
    "kernelspec": {
      "name": "python3",
      "display_name": "Python 3"
    },
    "language_info": {
      "name": "python"
    }
  },
  "cells": [
    {
      "cell_type": "markdown",
      "metadata": {
        "id": "view-in-github",
        "colab_type": "text"
      },
      "source": [
        "<a href=\"https://colab.research.google.com/github/liuhuiaren0524/GoogleColab-Github/blob/main/glcm_features.ipynb\" target=\"_parent\"><img src=\"https://colab.research.google.com/assets/colab-badge.svg\" alt=\"Open In Colab\"/></a>"
      ]
    },
    {
      "cell_type": "code",
      "metadata": {
        "colab": {
          "base_uri": "https://localhost:8080/"
        },
        "id": "KYCuGSFUz1o-",
        "outputId": "bfc08a30-7703-4c37-9292-2e2d867b240a"
      },
      "source": [
        "%tensorflow_version 1.x\n",
        "import tensorflow\n",
        "print(tensorflow.__version__)\n",
        "import sys\n",
        "from google.colab import drive\n",
        "drive.mount('/content/drive')\n",
        "#sys.path.append('/content/drive/My Drive/Colab Notebooks')\n",
        "sys.path.append('/content/drive/My Drive/app/Putao/GLCM/Src_pictures')"
      ],
      "execution_count": null,
      "outputs": [
        {
          "output_type": "stream",
          "name": "stdout",
          "text": [
            "1.15.2\n",
            "Drive already mounted at /content/drive; to attempt to forcibly remount, call drive.mount(\"/content/drive\", force_remount=True).\n"
          ]
        }
      ]
    },
    {
      "cell_type": "code",
      "metadata": {
        "colab": {
          "base_uri": "https://localhost:8080/"
        },
        "id": "ZugzrrhsANgo",
        "outputId": "98ed244a-9d20-482f-d2d2-853fcaaacc27"
      },
      "source": [
        "from get_glcm import *\n",
        "import get_glcm\n",
        "import os\n",
        "import cv2\n",
        "import numpy as np\n",
        "import time\n",
        "\n",
        "\n",
        "start = time.time()\n",
        "def getFileList(dir,Filelist, ext=None):\n",
        "    \"\"\"\n",
        "    获取文件夹及其子文件夹中文件列表\n",
        "    输入 dir：文件夹根目录\n",
        "    输入 ext: 扩展名\n",
        "    返回： 文件路径列表\n",
        "    \"\"\"\n",
        "    newDir = dir\n",
        "    if os.path.isfile(dir):\n",
        "        if ext is None:\n",
        "            Filelist.append(dir)\n",
        "        else:\n",
        "            if ext in dir[-3:]:\n",
        "                Filelist.append(dir)\n",
        "    \n",
        "    elif os.path.isdir(dir):\n",
        "        for s in os.listdir(dir):\n",
        "            newDir=os.path.join(dir,s)\n",
        "            getFileList(newDir, Filelist, ext)\n",
        " \n",
        "    return Filelist\n",
        " \n",
        "org_img_folder='/content/drive/My Drive/app/Putao/GLCM'\n",
        " \n",
        "# 检索文件\n",
        "imglist = getFileList(org_img_folder, [], 'jpg')\n",
        "print('本次执行检索到 '+str(len(imglist))+' 张图像\\n')\n",
        " \n",
        "for imgpath in imglist:\n",
        "    imgname = os.path.splitext(os.path.basename(imgpath))[0]\n",
        "    #img = cv2.imread(imgpath, cv2.IMREAD_COLOR)\n",
        "    img = cv2.imread(imgpath,cv2.IMREAD_GRAYSCALE)\n",
        "    print(imgname)\n",
        "    print(img.shape)\n",
        "    \n",
        "    # 对每幅图像执行相关操作"
      ],
      "execution_count": null,
      "outputs": [
        {
          "output_type": "stream",
          "name": "stdout",
          "text": [
            "本次执行检索到 2 张图像\n",
            "\n",
            "putao\n",
            "(512, 512)\n",
            "putao2\n",
            "(512, 512)\n"
          ]
        }
      ]
    },
    {
      "cell_type": "code",
      "metadata": {
        "colab": {
          "base_uri": "https://localhost:8080/",
          "height": 179
        },
        "id": "vhQ0aP4azzCs",
        "outputId": "4982ce7c-1fbd-49a6-d2d2-13789d42f7a8"
      },
      "source": [
        "nbit = 64 # gray levels\n",
        "mi, ma = 0, 255 # max gray and min gray\n",
        "slide_window = 7 # sliding window\n",
        "# step = [2, 4, 8, 16] # step\n",
        "# angle = [0, np.pi/4, np.pi/2, np.pi*3/4] # angle or direction\n",
        "step = [2]\n",
        "angle = [0]\n",
        "\n",
        "imgs = np.uint8(255.0 * (img - np.min(img))/(np.max(img) - np.min(img))) # normalization\n",
        "#print(imgs)\n",
        "h, w = imgs.shape\n",
        "print('------------------2. Calcu GLCM---------------------')\n",
        "glcm = get_glcm.calcu_glcm(img, mi, ma, nbit, slide_window, step, angle)\n",
        "print('-----------------3. Calcu Feature-------------------')\n",
        "for z in range(len(imglist)):\n",
        "  for i in range(glcm.shape[2]):\n",
        "    for j in range(glcm.shape[3]):\n",
        "        glcm_cut = np.zeros((nbit, nbit, h, w), dtype = np.float32)\n",
        "        glcm_cut = glcm[:, :, i, j, :, :]\n",
        "        mean = get_glcm.calcu_glcm_mean(glcm_cut, nbit)\n",
        "        variance = get_glcm.calcu_glcm_variance(glcm_cut, nbit)\n",
        "        homogeneity = get_glcm.calcu_glcm_homogeneity(glcm_cut, nbit)\n",
        "        contrast = get_glcm.calcu_glcm_contrast(glcm_cut, nbit)\n",
        "        dissimilarity = get_glcm.calcu_glcm_dissimilarity(glcm_cut, nbit)\n",
        "        entropy = get_glcm.calcu_glcm_entropy(glcm_cut, nbit)\n",
        "        energy = get_glcm.calcu_glcm_energy(glcm_cut, nbit)\n",
        "        correlation = get_glcm.calcu_glcm_correlation(glcm_cut, nbit)\n",
        "        Auto_correlation = get_glcm.calcu_glcm_Auto_correlation(glcm_cut, nbit)\n",
        "        print('---------------4. Display and Result----------------')\n",
        "        plt.figure(figsize=(10, 4.5))\n",
        "        font = {'family' : 'Times New Roman',\n",
        "        'weight' : 'normal',\n",
        "        'size'   : 12,\n",
        "        }\n",
        "        plt.subplot(2,5,1)\n",
        "        plt.tick_params(labelbottom=False, labelleft=False)\n",
        "        plt.axis('off')\n",
        "        plt.imshow(img, cmap ='gray')\n",
        "        plt.title('Original', font)\n",
        "\n",
        "        plt.subplot(2,5,2)\n",
        "        plt.tick_params(labelbottom=False, labelleft=False)\n",
        "        plt.axis('off')\n",
        "        plt.imshow(mean, cmap ='gray')\n",
        "        plt.title('Mean', font)\n",
        "\n",
        "        plt.subplot(2,5,3)\n",
        "        plt.tick_params(labelbottom=False, labelleft=False)\n",
        "        plt.axis('off')\n",
        "        plt.imshow(variance, cmap ='gray')\n",
        "        plt.title('Variance', font)\n",
        "\n",
        "        plt.subplot(2,5,4)\n",
        "        plt.tick_params(labelbottom=False, labelleft=False)\n",
        "        plt.axis('off')\n",
        "        plt.imshow(homogeneity, cmap ='gray')\n",
        "        plt.title('Homogeneity', font)\n",
        "\n",
        "        plt.subplot(2,5,5)\n",
        "        plt.tick_params(labelbottom=False, labelleft=False)\n",
        "        plt.axis('off')\n",
        "        plt.imshow(contrast, cmap ='gray')\n",
        "        plt.title('Contrast', font)\n",
        "\n",
        "        plt.subplot(2,5,6)\n",
        "        plt.tick_params(labelbottom=False, labelleft=False)\n",
        "        plt.axis('off')\n",
        "        plt.imshow(dissimilarity, cmap ='gray')\n",
        "        plt.title('Dissimilarity', font)\n",
        "\n",
        "        plt.subplot(2,5,7)\n",
        "        plt.tick_params(labelbottom=False, labelleft=False)\n",
        "        plt.axis('off')\n",
        "        plt.imshow(entropy, cmap ='gray')\n",
        "        plt.title('Entropy', font)\n",
        "\n",
        "        plt.subplot(2,5,8)\n",
        "        plt.tick_params(labelbottom=False, labelleft=False)\n",
        "        plt.axis('off')\n",
        "        plt.imshow(energy, cmap ='gray')\n",
        "        plt.title('Energy', font)\n",
        "\n",
        "        plt.subplot(2,5,9)\n",
        "        plt.tick_params(labelbottom=False, labelleft=False)\n",
        "        plt.axis('off')\n",
        "        plt.imshow(correlation, cmap ='gray')\n",
        "        plt.title('Correlation', font)\n",
        "\n",
        "        plt.subplot(2,5,10)\n",
        "        plt.tick_params(labelbottom=False, labelleft=False)\n",
        "        plt.axis('off')\n",
        "        plt.imshow(Auto_correlation, cmap ='gray')\n",
        "        plt.title('Auto Correlation', font)\n",
        "\n",
        "        plt.tight_layout(pad=0.5)\n",
        "        plt.savefig('/content/drive/My Drive/app/Putao/GLCM/Result/PUTAO_Features_{}.png'.format(z)\n",
        "                    , format='png'\n",
        "                    , bbox_inches = 'tight'\n",
        "                    , pad_inches = 0\n",
        "                    , dpi=300)\n",
        "        #plt.show()\n",
        "        plt.clf()\n",
        "\n",
        "        bins = np.array([0, 16, 32, 48, 64, 80, 96, 112, 128, 144, 160, 176, 192, 208, 224, 240, 255]) #16-bit\n",
        "        inds = np.digitize(img, bins)\n",
        "\n",
        "        max_value = inds.max()+1\n",
        "        matrix_coocurrence = greycomatrix(inds, [1], [0, np.pi/4, np.pi/2, 3*np.pi/4], levels=max_value, normed=False, symmetric=False)\n",
        "\n",
        "        # GLCM properties\n",
        "        def contrast_feature(matrix_coocurrence):\n",
        "          contrast = greycoprops(matrix_coocurrence, 'contrast') #对比度\n",
        "          return \"对比度contrast:\", contrast\n",
        "        print(contrast_feature(matrix_coocurrence))\n",
        "end = time.time()\n",
        "print('Code run time:', end - start)"
      ],
      "execution_count": null,
      "outputs": [
        {
          "output_type": "stream",
          "name": "stdout",
          "text": [
            "------------------2. Calcu GLCM---------------------\n",
            "-----------------3. Calcu Feature-------------------\n",
            "---------------4. Display and Result----------------\n",
            "('对比度contrast:', array([[0.50810298, 0.75406804, 0.49671676, 0.69302354]]))\n",
            "---------------4. Display and Result----------------\n",
            "('对比度contrast:', array([[0.50810298, 0.75406804, 0.49671676, 0.69302354]]))\n",
            "Code run time: 452.00704526901245\n"
          ]
        },
        {
          "output_type": "display_data",
          "data": {
            "text/plain": [
              "<Figure size 720x324 with 0 Axes>"
            ]
          },
          "metadata": {}
        },
        {
          "output_type": "display_data",
          "data": {
            "text/plain": [
              "<Figure size 720x324 with 0 Axes>"
            ]
          },
          "metadata": {}
        }
      ]
    }
  ]
}