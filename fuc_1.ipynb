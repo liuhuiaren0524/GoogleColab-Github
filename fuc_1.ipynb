{
  "nbformat": 4,
  "nbformat_minor": 0,
  "metadata": {
    "colab": {
      "name": "fuc_1.ipynb",
      "provenance": [],
      "toc_visible": true,
      "authorship_tag": "ABX9TyOlQcHlF8TBmDYS0jbNd49f",
      "include_colab_link": true
    },
    "kernelspec": {
      "name": "python3",
      "display_name": "Python 3"
    },
    "language_info": {
      "name": "python"
    },
    "accelerator": "GPU"
  },
  "cells": [
    {
      "cell_type": "markdown",
      "metadata": {
        "id": "view-in-github",
        "colab_type": "text"
      },
      "source": [
        "<a href=\"https://colab.research.google.com/github/liuhuiaren0524/GoogleColab-Github/blob/main/fuc_1.ipynb\" target=\"_parent\"><img src=\"https://colab.research.google.com/assets/colab-badge.svg\" alt=\"Open In Colab\"/></a>"
      ]
    },
    {
      "cell_type": "code",
      "metadata": {
        "colab": {
          "base_uri": "https://localhost:8080/"
        },
        "id": "wfboNpX19Y43",
        "outputId": "c910a6ba-840d-4697-84a1-d087f23a84ae"
      },
      "source": [
        "%tensorflow_version 1.x\n",
        "import tensorflow\n",
        "print(tensorflow.__version__)\n",
        "import sys\n",
        "from google.colab import drive\n",
        "drive.mount('/content/drive')\n",
        "sys.path.append('/content/drive/My Drive/Colab Notebooks')"
      ],
      "execution_count": 3,
      "outputs": [
        {
          "output_type": "stream",
          "name": "stdout",
          "text": [
            "TensorFlow 1.x selected.\n",
            "1.15.2\n",
            "Mounted at /content/drive\n"
          ]
        }
      ]
    },
    {
      "cell_type": "code",
      "metadata": {
        "colab": {
          "base_uri": "https://localhost:8080/",
          "height": 245
        },
        "id": "u3xzuv1U6JUR",
        "outputId": "d75813e4-5d26-4506-fb37-fc5b6822fa34"
      },
      "source": [
        "import os\n",
        "os.chdir(\"/home/lhr_rw/test\")\n",
        "from EVPortalToolFunction import loadHiveData\n",
        "\n",
        "def getNissianData(stat_date):\n",
        "  sql = \"\"\"\n",
        "  select \n",
        "    totalelectricity/10, id, collecttime\n",
        "  from \n",
        "    table\n",
        "  where \n",
        "    custommsgid is not null and \n",
        "    etl_date = '{}' and \n",
        "    custommsgtype = 2 and\n",
        "    collecttime > 0\n",
        "  sort by \n",
        "    vin, collecttime\"\"\".format(stat_date)\n",
        "  col = ['totalelectricity', 'id', 'collecttime']\n",
        "  return loadHiveData(sql, col)\n",
        "\n",
        "\n",
        "import datetime\n",
        "\n",
        "def getEveryDay(begin_date,end_date):\n",
        "    date_list = []\n",
        "    begin_date = datetime.datetime.strptime(begin_date, \"%Y-%m-%d\")\n",
        "    end_date = datetime.datetime.strptime(end_date,\"%Y-%m-%d\")\n",
        "    while begin_date <= end_date:\n",
        "        date_str = begin_date.strftime(\"%Y-%m-%d\")\n",
        "        date_list.append(date_str)\n",
        "        begin_date += datetime.timedelta(days=1)\n",
        "    return date_list\n",
        "\n",
        "begin_date = '2021-09-10'\n",
        "end_date   = '2021-09-12'\n",
        "\n",
        "Date_list = getEveryDay(begin_date, end_date)\n",
        "\n",
        "for i in range(len(Date_list)):\n",
        "  print(i)\n",
        "  stat_dates = Date_list[i]\n",
        "  #print(stat_date)\n",
        "  #stat_date = '20210912'\n",
        "  a1 = getNissianData(stat_dates)\n",
        "  a1['collecttime_shift'] = a1.groupby('id')['collecttime'].shift(1)\n",
        "  a1['diff'] = a1['collecttime']- a1['collecttime_shift'] \n",
        "  a1 = a1.fillna(10)\n",
        "  a1['1'] = a1['totalelectricity']*a1['diff']/3600\n",
        "  a1 = a1[a1['1'] > 0]\n",
        "  a2 = a1.groupby('id').agg({'1':'sum'})\n",
        "  print(a2.head())\n",
        "  a2.to_csv('{}_data.csv'.format(stat_dates))"
      ],
      "execution_count": 4,
      "outputs": [
        {
          "output_type": "error",
          "ename": "FileNotFoundError",
          "evalue": "ignored",
          "traceback": [
            "\u001b[0;31m---------------------------------------------------------------------------\u001b[0m",
            "\u001b[0;31mFileNotFoundError\u001b[0m                         Traceback (most recent call last)",
            "\u001b[0;32m<ipython-input-4-5d7b62ab2884>\u001b[0m in \u001b[0;36m<module>\u001b[0;34m()\u001b[0m\n\u001b[1;32m      1\u001b[0m \u001b[0;32mimport\u001b[0m \u001b[0mos\u001b[0m\u001b[0;34m\u001b[0m\u001b[0;34m\u001b[0m\u001b[0m\n\u001b[0;32m----> 2\u001b[0;31m \u001b[0mos\u001b[0m\u001b[0;34m.\u001b[0m\u001b[0mchdir\u001b[0m\u001b[0;34m(\u001b[0m\u001b[0;34m\"/home/lhr_rw/test\"\u001b[0m\u001b[0;34m)\u001b[0m\u001b[0;34m\u001b[0m\u001b[0;34m\u001b[0m\u001b[0m\n\u001b[0m\u001b[1;32m      3\u001b[0m \u001b[0;32mfrom\u001b[0m \u001b[0mEVPortalToolFunction\u001b[0m \u001b[0;32mimport\u001b[0m \u001b[0mloadHiveData\u001b[0m\u001b[0;34m\u001b[0m\u001b[0;34m\u001b[0m\u001b[0m\n\u001b[1;32m      4\u001b[0m \u001b[0;34m\u001b[0m\u001b[0m\n\u001b[1;32m      5\u001b[0m \u001b[0;32mdef\u001b[0m \u001b[0mgetNissianData\u001b[0m\u001b[0;34m(\u001b[0m\u001b[0mstat_date\u001b[0m\u001b[0;34m)\u001b[0m\u001b[0;34m:\u001b[0m\u001b[0;34m\u001b[0m\u001b[0;34m\u001b[0m\u001b[0m\n",
            "\u001b[0;31mFileNotFoundError\u001b[0m: [Errno 2] No such file or directory: '/home/lhr_rw/test'"
          ]
        }
      ]
    }
  ]
}